{
 "cells": [
  {
   "cell_type": "markdown",
   "id": "370571c4",
   "metadata": {},
   "source": [
    "Creating a Simple Tensor with Random Items"
   ]
  },
  {
   "cell_type": "code",
   "execution_count": 30,
   "id": "423e26be",
   "metadata": {},
   "outputs": [],
   "source": [
    "import numpy as np"
   ]
  },
  {
   "cell_type": "code",
   "execution_count": 46,
   "id": "9c22f89f",
   "metadata": {},
   "outputs": [],
   "source": [
    "# scientic notation is suppressed by below code\n",
    "# meaning the decimal palce will stay fixed and conversion \n",
    "# to exponential(power of 10-Scientific Notation) form will not be there, this will help us analyse the results better\n",
    "\n",
    "np.set_printoptions(suppress=True)"
   ]
  },
  {
   "cell_type": "code",
   "execution_count": 54,
   "id": "39a466e6",
   "metadata": {},
   "outputs": [
    {
     "data": {
      "text/plain": [
       "array([ 24.90802377, 140.14286128,  96.39878836,  69.73169684,\n",
       "       -18.79627191, -18.80109593, -38.38327757, 123.23522915,\n",
       "        70.22300235,  91.61451556, -45.88310114, 143.98197043,\n",
       "       116.48852816,  -7.53217786, -13.63500656, -13.31909803,\n",
       "        10.84844859,  54.95128633,  36.38900373,   8.24582804])"
      ]
     },
     "execution_count": 54,
     "metadata": {},
     "output_type": "execute_result"
    }
   ],
   "source": [
    "#generating a random floating point array\n",
    "np.random.seed(42)\n",
    "params = np.random.uniform(low=-50,high=150,size=20)\n",
    "params"
   ]
  },
  {
   "cell_type": "code",
   "execution_count": 55,
   "id": "1a4456f9",
   "metadata": {},
   "outputs": [
    {
     "name": "stdout",
     "output_type": "stream",
     "text": [
      "143.98197043239887\n",
      "-45.883101140839514\n"
     ]
    }
   ],
   "source": [
    "print(params.max())\n",
    "print(params.min())"
   ]
  },
  {
   "cell_type": "code",
   "execution_count": 56,
   "id": "168792e2",
   "metadata": {},
   "outputs": [],
   "source": [
    "# adjusting the most important numbers in such a way that we can easily observe the effect of quantization \n",
    "params[0] = params.max()-1\n",
    "params[1] = params.min()-1\n",
    "params[2] = 0\n"
   ]
  },
  {
   "cell_type": "code",
   "execution_count": 51,
   "id": "53115427",
   "metadata": {},
   "outputs": [
    {
     "data": {
      "text/plain": [
       "array([142.98197043, -46.88310114,   0.        ,  69.73169684,\n",
       "       -18.79627191, -18.80109593, -38.38327757, 123.23522915,\n",
       "        70.22300235,  91.61451556, -45.88310114, 143.98197043,\n",
       "       116.48852816,  -7.53217786, -13.63500656, -13.31909803,\n",
       "        10.84844859,  54.95128633,  36.38900373,   8.24582804])"
      ]
     },
     "execution_count": 51,
     "metadata": {},
     "output_type": "execute_result"
    }
   ],
   "source": [
    "params"
   ]
  },
  {
   "cell_type": "markdown",
   "id": "59ce80ae",
   "metadata": {},
   "source": [
    "Defining the quantization menthods"
   ]
  },
  {
   "cell_type": "code",
   "execution_count": null,
   "id": "b09fd9b4",
   "metadata": {},
   "outputs": [],
   "source": [
    "# clamp function\n",
    "def clamp(params_q: np.array, lower_bound:int, upper_bound: int) -> np.array:\n",
    "    params_q[params_q<lower_bound] = lower_bound\n",
    "    params[params_q>upper_bound] = upper_bound\n",
    "    return params_q\n",
    "\n",
    "def asymmetric_quantization(params: np.array, bits: int) -> tuple[np.array,float,int]:\n",
    "    alpha = np.max(params)\n",
    "    beta = np.min(params)\n",
    "    scale = (alpha-beta)/(2**bits-1)\n",
    "    zero = -1*np.round(beta/scale)\n",
    "    lower_bound = 0\n",
    "    upper_bound = 2**bits-1\n",
    "    quantized = clamp(np.round(params/scale)+zero,lower_bound,upper_bound).astype(np.int32)\n",
    "    # we convert to int32 as np.round even though converts the values to whole numbers but returns float64 datatype by default\n",
    "    return quantized, scale, zero\n",
    "\n",
    "def asymmetric_dequantization(params_q: np.array, scale: float, zero: int) -> np.array:\n",
    "    return (params_q-zero)*scale\n",
    "\n",
    "def symmetric_dequantization(params_q: np.array, scale: float) -> np.array:\n",
    "    return params_q*scale\n",
    "\n",
    "def symmetric_quantization(params:np.array,bits:int)->tuple[np.array,float]:\n",
    "    alpha = np.max(abs(params))\n",
    "    scale = alpha/(2**(bits-1)-1)\n",
    "    lower_bound = -(2**(bits-1)-1)\n",
    "    upper_bound = 2**(bits-1)-1\n",
    "    quantize = clamp(np.round(params/scale),lower_bound,upper_bound).astype(np.int32)\n",
    "    return quantize,scale\n",
    "\n",
    "def quantization_error(params:np.array, params_q:np.array):\n",
    "    # mean squared error\n",
    "    return np.mean((params-params_q)**2)\n"
   ]
  },
  {
   "cell_type": "code",
   "execution_count": 58,
   "id": "0d3bb5ce",
   "metadata": {},
   "outputs": [],
   "source": [
    "asymmetric_q,asymmetric_scale, asymmetric_quantization_zero = asymmetric_quantization(params,8)\n",
    "symmetric_q,symmetric_scale = symmetric_quantization(params,8)"
   ]
  },
  {
   "cell_type": "code",
   "execution_count": 59,
   "id": "6847772b",
   "metadata": {},
   "outputs": [
    {
     "name": "stdout",
     "output_type": "stream",
     "text": [
      "Original:\n",
      "[127.         -46.88310114   0.         127.         -18.79627191\n",
      " -18.80109593 -38.38327757 127.         127.         127.\n",
      " -45.88310114 127.         127.          -7.53217786 -13.63500656\n",
      " -13.31909803  10.84844859 127.         127.           8.24582804]\n",
      "\n",
      "Asymmetric scale: 0.7484904767577976, zero: 63.0\n",
      "[254   0  63 156  38  38  12 228 157 185   2 255 219  53  45  45  77 136\n",
      " 112  74]\n",
      "\n",
      "Symmetric scale: 0.12485914400311615\n",
      "[1145 -129    0  558 -129 -129 -129  987  562  734 -129 1153  933  -60\n",
      " -109 -107   87  440  291   66]\n"
     ]
    }
   ],
   "source": [
    "print('Original:')\n",
    "print(params)\n",
    "print('')\n",
    "print(f'Asymmetric scale: {asymmetric_scale}, zero: {asymmetric_quantization_zero}')\n",
    "print(asymmetric_q)\n",
    "print('')\n",
    "print(f'Symmetric scale: {symmetric_scale}')\n",
    "print(symmetric_q)\n"
   ]
  },
  {
   "cell_type": "code",
   "execution_count": 40,
   "id": "1b70e6fc",
   "metadata": {},
   "outputs": [
    {
     "data": {
      "text/plain": [
       "array([-128,  545,    0, -128, -128, -128, -128, -128,  -34,  108, -128,\n",
       "       -128, -128,  413,  529, -128, -128,  261,  212,  355])"
      ]
     },
     "execution_count": 40,
     "metadata": {},
     "output_type": "execute_result"
    }
   ],
   "source": [
    "symmetric_q"
   ]
  },
  {
   "cell_type": "code",
   "execution_count": 41,
   "id": "0ada8a64",
   "metadata": {},
   "outputs": [],
   "source": [
    "# performing dequantization\n",
    "\n",
    "params_deq_asymmetric = asymmetric_dequantization(asymmetric_q, asymmetric_scale, asymmetric_quantization_zero)\n",
    "params_deq_symmetric = symmetric_dequantization(symmetric_q,symmetric_scale)"
   ]
  },
  {
   "cell_type": "code",
   "execution_count": 42,
   "id": "93c59186",
   "metadata": {},
   "outputs": [
    {
     "name": "stdout",
     "output_type": "stream",
     "text": [
      "Original:\n",
      "[118.73314904 127.           0.          65.32298924  82.39966922\n",
      "  77.8322529   22.56922638 119.73314904   2.22533658  -6.98146009\n",
      "  36.12508686  69.02070893  34.54136323 127.         127.\n",
      "  33.95895632  73.76921973 127.         127.         127.        ]\n",
      "\n",
      "Dequantize Asymmetric: [118.46726172 -35.23641631   0.          65.61263726  82.62332099\n",
      "  77.76312564  22.47840351 119.68231056   2.43009768  -6.68276861\n",
      "  35.84394073  69.25778377  34.62889189 -26.73107444 -34.02136747\n",
      "  34.02136747  73.51045471 -17.01068373 -13.36553722 -23.08592792]\n",
      "\n",
      "Dequantize Symmetric: [  8.26685096 -35.19870136  -0.           8.26685096   8.26685096\n",
      "   8.26685096   8.26685096   8.26685096   2.19588229  -6.9751555\n",
      "   8.26685096   8.26685096   8.26685096 -26.67351131 -34.16534499\n",
      "   8.26685096   8.26685096 -16.85662579 -13.69197191 -22.92759447]\n"
     ]
    }
   ],
   "source": [
    "print('Original:')\n",
    "print(params)\n",
    "print('')\n",
    "print(f'Dequantize Asymmetric: {params_deq_asymmetric}')\n",
    "print('')\n",
    "print(f'Dequantize Symmetric: {params_deq_symmetric}')\n"
   ]
  },
  {
   "cell_type": "code",
   "execution_count": 44,
   "id": "b6b96ee0",
   "metadata": {},
   "outputs": [
    {
     "name": "stdout",
     "output_type": "stream",
     "text": [
      "Asymmetric error: 6942.48\n",
      "Symmetric error: 9369.81\n"
     ]
    }
   ],
   "source": [
    "# quantization error\n",
    "print(f'{\"Asymmetric error: \"}{np.round(quantization_error(params,params_deq_asymmetric),2)}')\n",
    "print(f'{\"Symmetric error: \"}{np.round(quantization_error(params,params_deq_symmetric),2)}')"
   ]
  }
 ],
 "metadata": {
  "kernelspec": {
   "display_name": "python_development",
   "language": "python",
   "name": "python3"
  },
  "language_info": {
   "codemirror_mode": {
    "name": "ipython",
    "version": 3
   },
   "file_extension": ".py",
   "mimetype": "text/x-python",
   "name": "python",
   "nbconvert_exporter": "python",
   "pygments_lexer": "ipython3",
   "version": "3.9.21"
  }
 },
 "nbformat": 4,
 "nbformat_minor": 5
}
