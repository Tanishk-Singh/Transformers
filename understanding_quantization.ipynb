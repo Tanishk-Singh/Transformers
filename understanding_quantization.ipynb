{
 "cells": [
  {
   "cell_type": "markdown",
   "id": "370571c4",
   "metadata": {},
   "source": [
    "Creating a Simple Tensor with Random Items"
   ]
  },
  {
   "cell_type": "code",
   "execution_count": 2,
   "id": "423e26be",
   "metadata": {},
   "outputs": [],
   "source": [
    "import numpy as np"
   ]
  },
  {
   "cell_type": "code",
   "execution_count": null,
   "id": "9c22f89f",
   "metadata": {},
   "outputs": [],
   "source": [
    "# scientic notation is suppressed by below code\n",
    "# meaning the decimal palce will stay fixed and conversion \n",
    "# to exponential(power of 10-Scientific Notation) form will not be there, this will help us analyse the results better\n",
    "\n",
    "np.set_printoptions(suppress=True)"
   ]
  },
  {
   "cell_type": "code",
   "execution_count": 13,
   "id": "39a466e6",
   "metadata": {},
   "outputs": [
    {
     "data": {
      "text/plain": [
       "array([-12.30109077, 126.68785963,  -0.4939466 , 135.85372037,\n",
       "       -17.51774727, -16.11701896, 102.23461091, -33.5079855 ,\n",
       "       111.25202791, 121.4723397 ,  93.89520017,  36.7436026 ,\n",
       "        85.58463402, -27.62545839, -29.72305535, -25.13061787,\n",
       "        20.13014606,  36.91993243,  45.82819097,  89.02619806])"
      ]
     },
     "execution_count": 13,
     "metadata": {},
     "output_type": "execute_result"
    }
   ],
   "source": [
    "#generating a random floating point array\n",
    "params = np.random.uniform(low=-50,high=150,size=20)\n",
    "params"
   ]
  },
  {
   "cell_type": "code",
   "execution_count": 16,
   "id": "168792e2",
   "metadata": {},
   "outputs": [],
   "source": [
    "# adjusting the most important numbers in such a way that we can easily observe the effect of quantization \n",
    "params[0] = params.max()-1\n",
    "params[1] = params.min()-1\n",
    "params[2] = 0\n"
   ]
  },
  {
   "cell_type": "code",
   "execution_count": 21,
   "id": "53115427",
   "metadata": {},
   "outputs": [
    {
     "data": {
      "text/plain": [
       "array([134.85372037, -34.5079855 ,   0.        , 135.85372037,\n",
       "       -17.51774727, -16.11701896, 102.23461091, -33.5079855 ,\n",
       "       111.25202791, 121.4723397 ,  93.89520017,  36.7436026 ,\n",
       "        85.58463402, -27.62545839, -29.72305535, -25.13061787,\n",
       "        20.13014606,  36.91993243,  45.82819097,  89.02619806])"
      ]
     },
     "execution_count": 21,
     "metadata": {},
     "output_type": "execute_result"
    }
   ],
   "source": [
    "params"
   ]
  },
  {
   "cell_type": "markdown",
   "id": "59ce80ae",
   "metadata": {},
   "source": [
    "Defining the quantization menthods"
   ]
  },
  {
   "cell_type": "code",
   "execution_count": null,
   "id": "b09fd9b4",
   "metadata": {},
   "outputs": [],
   "source": [
    "# clamp function\n",
    "def clamp(params_q: np.array, lower_bound:int, upper_bound: int) -> np.array:\n",
    "    params_q[params_q<lower_bound] = lower_bound\n",
    "    params[params_q>upper_bound] = upper_bound\n",
    "    return params_q\n",
    "\n",
    "def asymmetric_quantization(params: np.array, bits: int) -> tuple[np.array,float,int]:\n",
    "    alpha = np.max(params)\n",
    "    beta = np.min(params)\n",
    "    scale = (alpha-beta)/(2**bits-1)\n",
    "    zero = -1*np.round(beta/scale)\n",
    "    lower_bound = 0\n",
    "    upper_bound = 2**bits-1\n",
    "    quantized = clamp(np.round(params/scale)+zero,lower_bound,upper_bound).astype(np.int32)\n",
    "    # we convert to int32 as np.round even though converts the values to whole numbers but returns float64 datatype by default\n",
    "    return quantized, scale, zero\n",
    "\n",
    "def asymmetric_dequantization(params_q: np.array, scale: float, zero: int) -> np.array:\n",
    "    return (params_q-zero)*scale\n",
    "\n",
    "def symmetric_dequantization(params_q: np.array, scale: float) -> np.array:\n",
    "    return params_q*scale\n",
    "\n",
    "def symmetric_quantization(params:np.array,bits:int)->tuple[np.array,float]:\n",
    "    alpha = np.max(abs(params))\n",
    "    scale = alpha/2**(bits-1)-1\n",
    "    lower_bound = -2**(bits-1)\n",
    "    upper_bound = 2**(bits-1)-1\n",
    "    quantize = clamp(np.round(params/scale),lower_bound,upper_bound).astype(np.int32)\n",
    "    return quantize,scale\n",
    "\n",
    "def quantization_error(params:np.array, params_q:np.array):\n",
    "    return np.mean((params-params_q)**2)\n"
   ]
  },
  {
   "cell_type": "code",
   "execution_count": 23,
   "id": "0d3bb5ce",
   "metadata": {},
   "outputs": [],
   "source": [
    "asymmetric_q,asymmetric_scale, asymmetric_quantization_zero = asymmetric_quantization(params,8)\n",
    "symmetric_q,symmetric_scale = symmetric_quantization(params,8)"
   ]
  },
  {
   "cell_type": "code",
   "execution_count": 24,
   "id": "6847772b",
   "metadata": {},
   "outputs": [
    {
     "data": {
      "text/plain": [
       "array([254,   0,  52, 255,  26,  28, 205,   2, 219, 234, 193, 107, 180,\n",
       "        11,   8,  14,  82, 107, 121, 185])"
      ]
     },
     "execution_count": 24,
     "metadata": {},
     "output_type": "execute_result"
    }
   ],
   "source": [
    "asymmetric_q"
   ]
  },
  {
   "cell_type": "code",
   "execution_count": 25,
   "id": "1b70e6fc",
   "metadata": {},
   "outputs": [
    {
     "data": {
      "text/plain": [
       "array([2198, -128,    0, 2214, -128, -128, 1666, -128, 1813, 1980, 1530,\n",
       "        599, 1395, -128, -128, -128,  328,  602,  747, 1451])"
      ]
     },
     "execution_count": 25,
     "metadata": {},
     "output_type": "execute_result"
    }
   ],
   "source": [
    "symmetric_q"
   ]
  }
 ],
 "metadata": {
  "kernelspec": {
   "display_name": "python_development",
   "language": "python",
   "name": "python3"
  },
  "language_info": {
   "codemirror_mode": {
    "name": "ipython",
    "version": 3
   },
   "file_extension": ".py",
   "mimetype": "text/x-python",
   "name": "python",
   "nbconvert_exporter": "python",
   "pygments_lexer": "ipython3",
   "version": "3.9.21"
  }
 },
 "nbformat": 4,
 "nbformat_minor": 5
}
