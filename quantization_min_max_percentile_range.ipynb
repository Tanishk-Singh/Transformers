{
 "cells": [
  {
   "cell_type": "code",
   "execution_count": 2,
   "id": "e827ca58",
   "metadata": {},
   "outputs": [],
   "source": [
    "import numpy as np"
   ]
  },
  {
   "cell_type": "code",
   "execution_count": 4,
   "id": "8fd8dbe1",
   "metadata": {},
   "outputs": [],
   "source": [
    "np.set_printoptions(suppress=True)"
   ]
  },
  {
   "cell_type": "code",
   "execution_count": 6,
   "id": "5739c0b9",
   "metadata": {},
   "outputs": [
    {
     "name": "stdout",
     "output_type": "stream",
     "text": [
      "[  17.46   43.47   21.64 ...   79.29  149.12 1000.  ]\n"
     ]
    }
   ],
   "source": [
    "params = np.random.uniform(low=-50, high=150, size=10000)\n",
    "#introduce a outlier\n",
    "params[-1]=1000\n",
    "params = np.round(params,2)\n",
    "print(params)"
   ]
  },
  {
   "cell_type": "code",
   "execution_count": 7,
   "id": "b2f80ad0",
   "metadata": {},
   "outputs": [],
   "source": [
    "# clamp function\n",
    "def clamp(params_q: np.array, lower_bound:int, upper_bound: int) -> np.array:\n",
    "    params_q[params_q<lower_bound] = lower_bound\n",
    "    params[params_q>upper_bound] = upper_bound\n",
    "    return params_q\n",
    "\n",
    "def asymmetric_quantization(params: np.array, bits: int) -> tuple[np.array,float,int]:\n",
    "    alpha = np.max(params)\n",
    "    beta = np.min(params)\n",
    "    scale = (alpha-beta)/(2**bits-1)\n",
    "    zero = -1*np.round(beta/scale)\n",
    "    lower_bound, upper_bound = 0, 2**bits-1\n",
    "    quantized = clamp(np.round(params/scale)+zero,lower_bound,upper_bound).astype(np.int32)\n",
    "    # we convert to int32 as np.round even though converts the values to whole numbers but returns float64 datatype by default\n",
    "    return quantized, scale, zero\n",
    "\n",
    "def asymmetric_quantization_percentile(params: np.array, bits: int, percentile: float=99.99) -> tuple[np.array,float,int]:\n",
    "    # setting float = 99.99 as default is to avoid outliers as alpha value in case no user provides no parameter for percentile\n",
    "    alpha = np.percentile(params, percentile)\n",
    "    beta = np.percentile(params, 100-percentile)\n",
    "    scale = (alpha-beta)/(2**bits-1)\n",
    "    zero = -1*np.round(beta/scale)\n",
    "    lower_bound, upper_bound = 0, 2**bits-1\n",
    "    quantized = clamp(np.round(params/scale)+zero,lower_bound,upper_bound).astype(np.int32)\n",
    "    return quantized, scale, zero"
   ]
  },
  {
   "cell_type": "code",
   "execution_count": 8,
   "id": "a18d1dd0",
   "metadata": {},
   "outputs": [],
   "source": [
    "(asymmetric_q,asymmetric_scale, asymmetric_quantization_zero) = asymmetric_quantization(params,8)\n",
    "(asymmetric_q_percentile, asymetric_scale_percentile, asymmetric_zero_percentile) = asymmetric_quantization_percentile(params,8)"
   ]
  },
  {
   "cell_type": "code",
   "execution_count": null,
   "id": "642c3770",
   "metadata": {},
   "outputs": [
    {
     "name": "stdout",
     "output_type": "stream",
     "text": [
      "Original:\n",
      "[ 17.46  43.47  21.64 ...  79.29 149.12 255.  ]\n",
      "\n",
      "Asymmetric (min-max) scale: 4.117607843137255, zero: 12.0\n",
      "[ 16  23  17 ...  31  48 255]\n",
      "\n",
      "Asymmetric Percentile scale: 0.7842941490172503, Percentile Zero: 64.0\n",
      "[  86  119   92 ...  165  254 1339]\n"
     ]
    }
   ],
   "source": [
    "print('Original:')\n",
    "print(params)\n",
    "print('')\n",
    "print(f'Asymmetric scale: {asymmetric_scale}, zero: {asymmetric_quantization_zero}')\n",
    "print(asymmetric_q)\n",
    "print('')\n",
    "print(f'Asymmetric Percentile scale: {asymetric_scale_percentile}, Percentile Zero: {asymmetric_zero_percentile}')\n",
    "print(asymmetric_q_percentile)\n"
   ]
  }
 ],
 "metadata": {
  "kernelspec": {
   "display_name": "python_development",
   "language": "python",
   "name": "python3"
  },
  "language_info": {
   "codemirror_mode": {
    "name": "ipython",
    "version": 3
   },
   "file_extension": ".py",
   "mimetype": "text/x-python",
   "name": "python",
   "nbconvert_exporter": "python",
   "pygments_lexer": "ipython3",
   "version": "3.9.21"
  }
 },
 "nbformat": 4,
 "nbformat_minor": 5
}
